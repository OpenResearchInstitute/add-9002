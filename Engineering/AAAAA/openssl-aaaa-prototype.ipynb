{
 "cells": [
  {
   "cell_type": "markdown",
   "metadata": {},
   "source": [
    "# OpenSSL meets P4 AAAA via LoTW\n",
    "\n",
    "Prototype for using OpenSSL command line tools to authenticate\n",
    "using ARRL Logbook of The World certificates.\n",
    "\n",
    "User is first asked to run TQSL, go to the `Callsign Certificates` screen, select the desired callsign certificate, and click `Save a Callsign Certificate`. This saves all the crypto information (including the private parts) to a file. That filename is entered below as PKCS12_filename."
   ]
  },
  {
   "cell_type": "code",
   "execution_count": 1,
   "metadata": {},
   "outputs": [
    {
     "name": "stdout",
     "output_type": "stream",
     "text": [
      "-rw-r--r--@ 1 kb5mu  staff  6691 Jun 20 21:39 KB5MU.p12\n"
     ]
    }
   ],
   "source": [
    "import glob\n",
    "import os\n",
    "import re\n",
    "import subprocess\n",
    "\n",
    "os.chdir(os.path.expanduser('~/Desktop/AAAA_test'))\n",
    "PKCS12_filename = \"KB5MU.p12\"\n",
    "\n",
    "process = subprocess.run(['ls', '-l', PKCS12_filename])"
   ]
  },
  {
   "cell_type": "markdown",
   "metadata": {},
   "source": [
    "Our first task is to find out the callsign associated with this certificate. The PKCS12 file format include \"Subject\" information that describes what the certificate applies to, in a standardized way. ITU X.520 https://www.itu.int/rec/T-REC-X.520-201910-I/en specifies the format, a Relative Distinguished Name. One of the ways this can be specified is with a Private Enterprise Number, which is a dot-separated sequence of numbers starting with 1.3.6.1.4.1 and followed by a number from the Enterprise Numbers list maintained by IANA at https://www.iana.org/assignments/enterprise-numbers/enterprise-numbers, plus some further sequence of numbers specified by that enterprise. The number for ARRL is 12348, and they've apparently assigned 1.1 to mean amateur radio callsign.\n",
    "\n",
    "With some pattern matching we can extract the callsign from the -info readable dump format of the PKCS12 file.\n",
    "\n",
    "From here, we're assuming that the user doesn't have a password set on his certificate, just to simplify the demonstration."
   ]
  },
  {
   "cell_type": "code",
   "execution_count": 2,
   "metadata": {},
   "outputs": [
    {
     "data": {
      "text/plain": [
       "'KB5MU'"
      ]
     },
     "execution_count": 2,
     "metadata": {},
     "output_type": "execute_result"
    }
   ],
   "source": [
    "process = subprocess.run(['openssl', 'pkcs12', '-info', '-in', PKCS12_filename, '-password', 'pass:'],\n",
    "                        stdout=subprocess.PIPE, stderr=subprocess.STDOUT, universal_newlines=True)\n",
    "p = re.compile(r'subject=/1.3.6.1.4.1.12348.1.1=(\\w+)')\n",
    "m = p.search(process.stdout)\n",
    "callsign = m.group(1)\n",
    "callsign"
   ]
  },
  {
   "cell_type": "markdown",
   "metadata": {},
   "source": [
    "Now we can grab our private key, public key, and certificates out of the PKCS12."
   ]
  },
  {
   "cell_type": "code",
   "execution_count": 3,
   "metadata": {},
   "outputs": [
    {
     "name": "stdout",
     "output_type": "stream",
     "text": [
      "-rw-r--r--  1 kb5mu  staff  2329 Jun 20 23:32 KB5MU-cert.pem\n",
      "-rw-r--r--  1 kb5mu  staff  7956 Jun 20 23:32 KB5MU-certs.pem\n",
      "-rw-r--r--  1 kb5mu  staff  1587 Jun 20 23:32 KB5MU-private.pem\n",
      "-rw-r--r--  1 kb5mu  staff   272 Jun 20 23:32 KB5MU-public.pem\n"
     ]
    }
   ],
   "source": [
    "private_filename = callsign + '-private.pem'\n",
    "public_filename = callsign + '-public.pem'\n",
    "certs_filename = callsign + '-certs.pem'\n",
    "mycert_filename = callsign + '-cert.pem'\n",
    "pem_file_pattern = callsign + '-*.pem'\n",
    "\n",
    "process = subprocess.run(['openssl', 'pkcs12', '-in', PKCS12_filename, '-password', 'pass:', '-out', private_filename, '-nodes', '-nocerts'],\n",
    "                        stdout=subprocess.PIPE, stderr=subprocess.STDOUT, universal_newlines=True)\n",
    "\n",
    "process = subprocess.run(['openssl', 'pkcs12', '-in', PKCS12_filename, '-password', 'pass:', '-out', certs_filename, '-nodes', '-nokeys'],\n",
    "                        stdout=subprocess.PIPE, stderr=subprocess.STDOUT, universal_newlines=True)\n",
    "\n",
    "process = subprocess.run(['openssl', 'pkcs12', '-in', PKCS12_filename, '-password', 'pass:', '-out', mycert_filename, '-nodes', '-nokeys', '-clcerts'],\n",
    "                        stdout=subprocess.PIPE, stderr=subprocess.STDOUT, universal_newlines=True)\n",
    "                        \n",
    "with open(public_filename, \"w\") as f:\n",
    "    process = subprocess.run(['openssl', 'x509', '-pubkey', '-in', mycert_filename, '-noout'],\n",
    "                        stdout=f, stderr=subprocess.STDOUT, universal_newlines=True)\n",
    "\n",
    "process = subprocess.run(['ls', '-l'] + glob.glob(pem_file_pattern))"
   ]
  },
  {
   "cell_type": "markdown",
   "metadata": {},
   "source": [
    "At this point, we (the ground station) would send our authentication request to the payload, including my certificate. This certificate contains and authenticates my public key, as we can confirm by examining it:"
   ]
  },
  {
   "cell_type": "code",
   "execution_count": 4,
   "metadata": {},
   "outputs": [
    {
     "name": "stdout",
     "output_type": "stream",
     "text": [
      "Certificate:\n",
      "    Data:\n",
      "        Version: 3 (0x2)\n",
      "        Serial Number: 509672 (0x7c6e8)\n",
      "    Signature Algorithm: sha256WithRSAEncryption\n",
      "        Issuer: C=US, ST=CT, L=Newington, O=American Radio Relay League, OU=Logbook of the World, CN=Logbook of the World Production CA, DC=arrl.org/emailAddress=lotw@arrl.org\n",
      "        Validity\n",
      "            Not Before: Mar 12 12:48:30 2020 GMT\n",
      "            Not After : Mar 12 12:48:30 2023 GMT\n",
      "        Subject: 1.3.6.1.4.1.12348.1.1=KB5MU, CN=PAUL T WILLIAMSON/emailAddress=paul@mustbeart.com\n",
      "        Subject Public Key Info:\n",
      "            Public Key Algorithm: rsaEncryption\n",
      "                Public-Key: (1024 bit)\n",
      "                Modulus:\n",
      "                    00:a3:37:b4:d8:22:d7:a7:ab:0c:18:78:36:65:37:\n",
      "                    2f:a4:5b:a1:43:e1:e5:8a:92:4c:82:0a:d9:55:e7:\n",
      "                    79:d2:e9:e9:92:5b:d2:10:64:17:75:28:74:89:20:\n",
      "                    65:cc:dd:61:46:cd:52:c4:84:1b:31:b3:47:b4:f6:\n",
      "                    c5:34:8e:08:57:06:8e:af:e5:82:9e:cb:19:12:52:\n",
      "                    0a:94:f1:1b:3f:a7:cd:28:64:98:90:8b:2f:c0:32:\n",
      "                    3d:70:38:16:c3:be:d9:29:25:a2:f2:06:e9:09:18:\n",
      "                    c9:3b:60:d7:2a:06:df:e6:d2:cd:e5:ed:21:7d:ac:\n",
      "                    f9:e0:0e:2b:f9:a5:83:ba:af\n",
      "                Exponent: 65537 (0x10001)\n",
      "        X509v3 extensions:\n",
      "            X509v3 Subject Key Identifier: \n",
      "                FE:05:E9:58:82:62:13:28:F2:42:39:6B:15:86:BD:55:B0:82:95:7C\n",
      "            X509v3 Authority Key Identifier: \n",
      "                keyid:A8:9F:6F:6A:80:B3:75:C2:3F:ED:E7:1C:FC:4F:33:70:A8:EC:2E:BF\n",
      "                DirName:/C=US/ST=CT/L=Newington/O=American Radio Relay League/OU=Logbook of the World/CN=Logbook of the World Root CA/DC=arrl.org/emailAddress=lotw@arrl.org\n",
      "                serial:57:7D:40:A7:33:74:69:90:02:69:0B:7B:14:60:76:E8:CB:B9:B7:89\n",
      "\n",
      "            X509v3 Basic Constraints: \n",
      "                CA:FALSE\n",
      "            X509v3 Key Usage: \n",
      "                Digital Signature, Non Repudiation, Key Encipherment\n",
      "            1.3.6.1.4.1.12348.1.2: \n",
      "                1977-06-01\n",
      "            1.3.6.1.4.1.12348.1.3: \n",
      "                2023-03-12\n",
      "            1.3.6.1.4.1.12348.1.4: \n",
      "                291\n",
      "            1.3.6.1.4.1.12348.1.5: \n",
      "                /C=US/ST=CT/L=Newington/O=American Radio Relay League/OU=Logbook of the World/CN=Logbook of the World Production CA/DC=arrl.org/Email=lotw@arrl.org;357600\n",
      "    Signature Algorithm: sha256WithRSAEncryption\n",
      "         ba:88:10:a6:90:01:91:d3:57:19:34:06:f8:11:da:bd:0a:67:\n",
      "         41:36:a0:65:6d:c9:72:f5:7d:2b:00:e2:3e:50:41:b2:0c:0f:\n",
      "         10:35:13:b9:77:1b:23:61:1d:e7:1f:7e:1f:1d:90:72:6d:fb:\n",
      "         68:88:4c:4f:6c:e8:c8:c2:81:1a:57:50:f6:0e:4b:d8:df:57:\n",
      "         c5:df:5b:9d:55:fe:7e:4b:1d:5f:c2:35:6e:67:03:f2:90:2a:\n",
      "         65:ef:36:0f:c0:67:00:41:d3:42:e2:78:ce:5e:6e:15:67:45:\n",
      "         f9:87:78:19:ea:17:77:45:84:51:5c:b2:a6:9e:40:86:0a:b9:\n",
      "         9b:24:ed:c6:be:39:03:06:ef:d8:8d:7d:31:a5:65:42:1b:2e:\n",
      "         0b:1b:a9:a1:0f:6e:82:86:39:5a:83:c5:c8:93:8b:cf:e4:7c:\n",
      "         f0:28:fd:93:12:9a:24:27:f4:3b:80:ab:3c:bf:b5:f6:02:3e:\n",
      "         1f:62:ce:3e:a1:c1:45:7b:fe:42:5b:27:43:ea:f5:74:31:db:\n",
      "         04:90:7c:2e:97:26:71:64:22:98:92:95:92:d2:88:9a:75:93:\n",
      "         36:ee:6b:5d:7e:c7:41:f4:3e:45:2c:40:95:28:41:53:14:02:\n",
      "         d3:43:65:6d:e1:c4:3e:a7:f0:91:5e:6d:0d:6a:be:c3:14:24:\n",
      "         5d:0c:c3:55\n"
     ]
    }
   ],
   "source": [
    "process = subprocess.run(['openssl', 'x509', '-in', mycert_filename, '-noout', '-text'])"
   ]
  },
  {
   "cell_type": "markdown",
   "metadata": {},
   "source": [
    "The payload will need to validate this certificate against the trusted LoTW root certificate and production certificate(s), which it already knows."
   ]
  },
  {
   "cell_type": "code",
   "execution_count": 5,
   "metadata": {},
   "outputs": [
    {
     "name": "stdout",
     "output_type": "stream",
     "text": [
      "KB5MU-cert.pem: OK\n"
     ]
    }
   ],
   "source": [
    "trusted_certs_filename = 'trusted/all_trusted.pem'\n",
    "\n",
    "process = subprocess.run(['openssl', 'verify', '-CAfile', trusted_certs_filename, mycert_filename])"
   ]
  },
  {
   "cell_type": "markdown",
   "metadata": {},
   "source": [
    "The payload will now want to extract our public key from the certificate, so it can retain the public key for checking our signatures. In fact, it will probably want to convert it to binary to minimize storage costs."
   ]
  },
  {
   "cell_type": "code",
   "execution_count": 6,
   "metadata": {},
   "outputs": [
    {
     "name": "stdout",
     "output_type": "stream",
     "text": [
      "-rw-r--r--  1 kb5mu  staff  272 Jun 20 23:32 saved_public.pem\n",
      "-rw-r--r--  1 kb5mu  staff  162 Jun 20 23:32 saved_public.der\n"
     ]
    }
   ],
   "source": [
    "payload_saved_public_filename = \"saved_public.pem\"\n",
    "payload_saved_public_binary_filename = \"saved_public.der\"\n",
    "\n",
    "with open(payload_saved_public_filename, \"w\") as f:\n",
    "    process = subprocess.run(['openssl', 'x509', '-pubkey', '-in', mycert_filename, '-noout'],\n",
    "                        stdout=f, stderr=subprocess.STDOUT, universal_newlines=True)\n",
    "\n",
    "process = subprocess.run(['ls', '-l', payload_saved_public_filename])\n",
    "\n",
    "process = subprocess.run(['openssl', 'rsa', '-pubin', '-inform', 'pem', '-in', payload_saved_public_filename, '-out', payload_saved_public_binary_filename, '-outform', 'der'],\n",
    "                        stdout=subprocess.PIPE, stderr=subprocess.STDOUT, universal_newlines=True)\n",
    "\n",
    "process = subprocess.run(['ls', '-l', payload_saved_public_binary_filename])\n"
   ]
  },
  {
   "cell_type": "markdown",
   "metadata": {},
   "source": [
    "We are now in a position to sign things (using our private key) and the payload is in a position to verify that signature (using our public key, which it will have had to retain). Like so:"
   ]
  },
  {
   "cell_type": "code",
   "execution_count": 7,
   "metadata": {},
   "outputs": [
    {
     "name": "stdout",
     "output_type": "stream",
     "text": [
      "-rw-r--r--  1 kb5mu  staff  128 Jun 20 23:32 signature.sha256\n",
      "Verified OK\n"
     ]
    }
   ],
   "source": [
    "high_value_message = \"My name is Ozymandias, King of Kings\"\n",
    "message_filename = 'message.dat'\n",
    "signature_filename = 'signature.sha256'\n",
    "\n",
    "# create a file to sign\n",
    "with open(message_filename, \"w\") as f:\n",
    "    f.write(high_value_message)\n",
    "\n",
    "# on the ground, sign the file with our private key\n",
    "process = subprocess.run(['openssl', 'dgst', '-sha256', '-sign', private_filename, '-out', signature_filename, message_filename ],\n",
    "                        stdout=subprocess.PIPE, stderr=subprocess.STDOUT, universal_newlines=True)\n",
    "\n",
    "process = subprocess.run(['ls', '-l', signature_filename])\n",
    "\n",
    "# in the payload, verify the signature with our public key\n",
    "process = subprocess.run(['openssl', 'dgst', '-sha256', '-keyform', 'der', '-verify', payload_saved_public_binary_filename, '-signature', signature_filename, message_filename])\n"
   ]
  },
  {
   "cell_type": "markdown",
   "metadata": {},
   "source": [
    "# Ta Dah!\n",
    "\n",
    "We've demonstrated that we can use the ARRL's LoTW public key infrastructure to securely authenticate our callsign identity and sign messages, and the payload can verify their authenticity without needing to know any of ARRL's secrets.\n",
    "\n",
    "The security here is, of course, limited by how secure ARRL's authentication of licensed radio amateurs is. In the United States, ARRL sends a postcard to the applicant's FCC-registered mailing address. That's as secure as anything the Federal government uses for amateur radio licensees. That may not be saying a whole lot, but there's no point in us trying to be more secure than the licensing body. For amateurs outside the United States, ARRL requires them to email images of proof of their license status. Presumably ARRL looks at these documents and perhaps cross-checks them with available databases when possible. This is roughly the same amount of scrutiny the FCC would give to reciprocal license applicants, so I think we can be reasonably assured that this is sufficient.\n",
    "\n",
    "The other limit on security is the individual amateur's ability and incentive to keep their private key a secret. Logbook of The World also relies on this. If a private key is known to be compromised, certificates can be revoked and reissued. I don't know how often that happens, or how difficult the procedure might be. If our payload is to automatically take advantage of this mechanism, it would have to perform some transactions on the Internet for each certificate verification. That wouldn't necessarily have to happen in real time.\n",
    "\n",
    "A payload with full-featured Authentication and Authorization needs to have the capability to maintain a block list of stations not permitted to use the system. The need to handle revoked certificates cleanly points to a requirement that the block list be able to distinguish between permanent blocks on a callsign (say, for bad behavior) and blocks due to compromised private keys. Probably it would be enough if each blocked callsign also stored a date. Any certificates for that callsign older than the stored date would be rejected. Permanant blocks would just have a date in the very far future.\n"
   ]
  },
  {
   "cell_type": "markdown",
   "metadata": {},
   "source": []
  }
 ],
 "metadata": {
  "kernelspec": {
   "display_name": "Python 3.10.0 64-bit",
   "language": "python",
   "name": "python3"
  },
  "language_info": {
   "codemirror_mode": {
    "name": "ipython",
    "version": 3
   },
   "file_extension": ".py",
   "mimetype": "text/x-python",
   "name": "python",
   "nbconvert_exporter": "python",
   "pygments_lexer": "ipython3",
   "version": "3.10.0"
  },
  "orig_nbformat": 4,
  "vscode": {
   "interpreter": {
    "hash": "aee8b7b246df8f9039afb4144a1f6fd8d2ca17a180786b69acc140d282b71a49"
   }
  }
 },
 "nbformat": 4,
 "nbformat_minor": 2
}

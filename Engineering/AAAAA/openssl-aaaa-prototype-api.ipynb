{
 "cells": [
  {
   "cell_type": "markdown",
   "metadata": {},
   "source": [
    "# OpenSSL meets P4 AAAA via LoTW\n",
    "\n",
    "Prototype for using OpenSSL to authenticate using ARRL Logbook of The World certificates.\n",
    "\n",
    "User is first asked to run TQSL, go to the `Callsign Certificates` screen, select the desired callsign certificate, and click `Save a Callsign Certificate`. This saves all the crypto information (including the private parts) to a file. That filename is entered below as PKCS12_filename.\n",
    "\n",
    "Here we are using Python's libraries `cryptography` and `OpenSSL` (aka pyopenssl). See also the notebook that uses the OpenSSL command line tool, and another that combines the two for comparison purposes."
   ]
  },
  {
   "cell_type": "code",
   "execution_count": 1,
   "metadata": {},
   "outputs": [
    {
     "name": "stdout",
     "output_type": "stream",
     "text": [
      "-rw-r--r-- 1 kb5mu kb5mu 6691 Jun 22 14:23 KB5MU.p12\n"
     ]
    }
   ],
   "source": [
    "from cryptography.hazmat.primitives import hashes\n",
    "from cryptography.hazmat.primitives.asymmetric import padding\n",
    "from cryptography.hazmat.primitives.serialization import pkcs12, Encoding\n",
    "from cryptography import x509\n",
    "import OpenSSL\n",
    "import os\n",
    "import re\n",
    "import subprocess\n",
    "\n",
    "os.chdir(os.path.expanduser('~/Desktop/AAAA_test'))\n",
    "trusted_certs_filename = 'trusted/all_trusted.pem'\n",
    "trusted_root_filename = 'trusted/arrlroot.pem'\n",
    "trusted_prod_filename = 'trusted/arrlprod.pem'\n",
    "PKCS12_filename = \"KB5MU.p12\"\n",
    "\n",
    "process = subprocess.run(['ls', '-l', PKCS12_filename])"
   ]
  },
  {
   "cell_type": "markdown",
   "metadata": {},
   "source": [
    "Our first task is to find out the callsign associated with this certificate. The PKCS12 file format include \"Subject\" information that describes what the certificate applies to, in a standardized way. ITU X.520 https://www.itu.int/rec/T-REC-X.520-201910-I/en specifies the format, a Relative Distinguished Name. One of the ways this can be specified is with a Private Enterprise Number, which is a dot-separated sequence of numbers starting with `1.3.6.1.4.1` and followed by a number from the Enterprise Numbers list maintained by IANA at https://www.iana.org/assignments/enterprise-numbers/enterprise-numbers, plus some further sequence of numbers specified by that enterprise. The number for ARRL is `12348`, and they've apparently assigned `1.1` to mean amateur radio callsign.\n",
    "\n",
    "With the API we can get the callsign out semantically by checking for a match with the desired Object Identifier.\n",
    "\n",
    "From here, we're assuming that the user doesn't have a password set on his private key, just to simplify the demonstration."
   ]
  },
  {
   "cell_type": "code",
   "execution_count": 2,
   "metadata": {},
   "outputs": [
    {
     "data": {
      "text/plain": [
       "'KB5MU'"
      ]
     },
     "execution_count": 2,
     "metadata": {},
     "output_type": "execute_result"
    }
   ],
   "source": [
    "with open(PKCS12_filename, \"rb\") as f:\n",
    "    buffer = f.read()\n",
    "\n",
    "p12 = pkcs12.load_pkcs12(buffer, None)\n",
    "for name in p12.cert.certificate.subject.rdns:\n",
    "    attributes = name.get_attributes_for_oid(x509.ObjectIdentifier('1.3.6.1.4.1.12348.1.1'))\n",
    "    if attributes:\n",
    "        callsign = attributes[0].value\n",
    "        break\n",
    "else:\n",
    "    printf('Did not find a matching Object ID for the callsign')\n",
    "    \n",
    "callsign"
   ]
  },
  {
   "cell_type": "markdown",
   "metadata": {},
   "source": [
    "Now we can grab our private key, public key, and certificates out of the PKCS12."
   ]
  },
  {
   "cell_type": "code",
   "execution_count": 3,
   "metadata": {},
   "outputs": [
    {
     "data": {
      "text/plain": [
       "[<cryptography.hazmat.backends.openssl.rsa._RSAPrivateKey at 0x7efcde1e4e50>,\n",
       " [<PKCS12Certificate(<Certificate(subject=<Name(C=US,ST=CT,L=Newington,O=American Radio Relay League,OU=Logbook of the World,CN=Logbook of the World Production CA,DC=arrl.org,1.2.840.113549.1.9.1=lotw@arrl.org)>, ...)>, friendly_name=None)>,\n",
       "  <PKCS12Certificate(<Certificate(subject=<Name(C=US,ST=CT,L=Newington,O=American Radio Relay League,OU=Logbook of the World,CN=Logbook of the World Root CA,DC=arrl.org,1.2.840.113549.1.9.1=lotw@arrl.org)>, ...)>, friendly_name=None)>],\n",
       " <Certificate(subject=<Name(1.3.6.1.4.1.12348.1.1=KB5MU,CN=PAUL T WILLIAMSON,1.2.840.113549.1.9.1=paul@mustbeart.com)>, ...)>,\n",
       " <cryptography.hazmat.backends.openssl.rsa._RSAPublicKey at 0x7efcf406fa00>]"
      ]
     },
     "execution_count": 3,
     "metadata": {},
     "output_type": "execute_result"
    }
   ],
   "source": [
    "# In the API, there are already accessors for everything we need:\n",
    "[\n",
    "p12.key,                             # my private key\n",
    "p12.additional_certs,                # upstream certificates signing my certificate\n",
    "p12.cert.certificate,                # my certificate\n",
    "p12.cert.certificate.public_key(),   # my public key\n",
    "]"
   ]
  },
  {
   "cell_type": "markdown",
   "metadata": {},
   "source": [
    "At this point, we (the ground station) would send our authentication request to the payload, including my certificate. This certificate contains and authenticates my public key."
   ]
  },
  {
   "cell_type": "markdown",
   "metadata": {},
   "source": [
    "The payload will need to validate this certificate against the trusted LoTW root certificate and production certificate(s), which it already knows."
   ]
  },
  {
   "cell_type": "markdown",
   "metadata": {},
   "source": [
    "Unfortunately, `cryptography` doesn't have a nice way to check a certificate. We'll have to use the older `OpenSSL` library for that."
   ]
  },
  {
   "cell_type": "code",
   "execution_count": 4,
   "metadata": {},
   "outputs": [
    {
     "name": "stdout",
     "output_type": "stream",
     "text": [
      "Production certificate verified\n",
      "User certificate OK\n"
     ]
    }
   ],
   "source": [
    "mycert = OpenSSL.crypto.X509.from_cryptography(p12.cert.certificate)\n",
    "\n",
    "with open(trusted_root_filename, \"r\") as f:\n",
    "    c = f.read()\n",
    "    arrlroot = OpenSSL.crypto.load_certificate(OpenSSL.crypto.FILETYPE_PEM,c)\n",
    "\n",
    "with open(trusted_prod_filename, \"r\") as f:\n",
    "    c = f.read()\n",
    "    arrlprod = OpenSSL.crypto.load_certificate(OpenSSL.crypto.FILETYPE_PEM,c)\n",
    "\n",
    "# Trust ARRL's root certificate\n",
    "store = OpenSSL.crypto.X509Store()\n",
    "store.add_cert(arrlroot)\n",
    "\n",
    "# only add production certificate if it can be verified by root\n",
    "ctx = OpenSSL.crypto.X509StoreContext(store, arrlprod)\n",
    "ctx.verify_certificate()\n",
    "try:\n",
    "    ctx.verify_certificate()\n",
    "except:\n",
    "    print('Problem with production certificate')\n",
    "else:\n",
    "    print('Production certificate verified')\n",
    "    store.add_cert(arrlprod)\n",
    "\n",
    "# now try to verify the offered certificate\n",
    "ctx = OpenSSL.crypto.X509StoreContext(store, mycert)\n",
    "try:\n",
    "    ctx.verify_certificate()\n",
    "except:\n",
    "    print('User certificate not accepted')\n",
    "else:\n",
    "    print('User certificate OK')"
   ]
  },
  {
   "cell_type": "markdown",
   "metadata": {},
   "source": [
    "The payload will now want to extract our public key from the certificate, so it can retain the public key for checking our signatures. In fact, it will probably want to convert it to binary to minimize storage costs."
   ]
  },
  {
   "cell_type": "code",
   "execution_count": 5,
   "metadata": {},
   "outputs": [
    {
     "data": {
      "text/plain": [
       "<cryptography.hazmat.backends.openssl.rsa._RSAPublicKey at 0x7efcde259220>"
      ]
     },
     "execution_count": 5,
     "metadata": {},
     "output_type": "execute_result"
    }
   ],
   "source": [
    "payload_saved_public_key = p12.cert.certificate.public_key()\n",
    "payload_saved_public_key"
   ]
  },
  {
   "cell_type": "markdown",
   "metadata": {},
   "source": [
    "We are now in a position to sign things (using our private key) and the payload is in a position to verify that signature (using our public key, which it will have had to retain). Like so:"
   ]
  },
  {
   "cell_type": "code",
   "execution_count": 6,
   "metadata": {},
   "outputs": [],
   "source": [
    "high_value_message = \"My name is Ozymandias, King of Kings\""
   ]
  },
  {
   "cell_type": "code",
   "execution_count": 7,
   "metadata": {},
   "outputs": [
    {
     "name": "stdout",
     "output_type": "stream",
     "text": [
      "Signature OK\n"
     ]
    }
   ],
   "source": [
    "# for cryptography we need the message as bytes\n",
    "hv_message = bytes(high_value_message, 'ascii')\n",
    "\n",
    "# on the ground, sign the message with our private key\n",
    "signature = p12.key.sign(hv_message,\n",
    "                        padding.PKCS1v15(   # for legacy compatibility\n",
    "#                        padding.PSS(       # recommended for new applications\n",
    "#                        mgf=padding.MGF1(hashes.SHA256()),\n",
    "#                        salt_length=padding.PSS.MAX_LENGTH\n",
    "                        ),\n",
    "                        hashes.SHA256())\n",
    "\n",
    "signature.hex()\n",
    "\n",
    "# in the payload, verify the signature with our public key\n",
    "try:\n",
    "    payload_saved_public_key.verify(signature, hv_message,\n",
    "                        padding.PKCS1v15(   # for legacy compatibility\n",
    "#                        padding.PSS(       # recommended for new applications\n",
    "#                        mgf=padding.MGF1(hashes.SHA256()),\n",
    "#                        salt_length=padding.PSS.MAX_LENGTH\n",
    "                        ),\n",
    "                        hashes.SHA256())\n",
    "except:\n",
    "    print(\"Signature rejected\")\n",
    "else:\n",
    "    print(\"Signature OK\")"
   ]
  },
  {
   "cell_type": "markdown",
   "metadata": {},
   "source": [
    "# Ta Dah!\n",
    "\n",
    "We've demonstrated that we can use the ARRL's LoTW public key infrastructure to securely authenticate our callsign identity and sign messages, and the payload can verify their authenticity without needing to know any of ARRL's secrets.\n",
    "\n",
    "The security here is, of course, limited by how secure ARRL's authentication of licensed radio amateurs is. In the United States, ARRL sends a postcard to the applicant's FCC-registered mailing address. That's as secure as anything the Federal government uses for amateur radio licensees. That may not be saying a whole lot, but there's no point in us trying to be more secure than the licensing body. For amateurs outside the United States, ARRL requires them to email images of proof of their license status. Presumably ARRL looks at these documents and perhaps cross-checks them with available databases when possible. This is roughly the same amount of scrutiny the FCC would give to reciprocal license applicants, so I think we can be reasonably assured that this is sufficient.\n",
    "\n",
    "The other limit on security is the individual amateur's ability and incentive to keep their private key a secret. Logbook of The World also relies on this. If a private key is known to be compromised, certificates can be revoked and reissued. I don't know how often that happens, or how difficult the procedure might be. If our payload is to automatically take advantage of this mechanism, it would have to perform some transactions on the Internet for each certificate verification. That wouldn't necessarily have to happen in real time.\n",
    "\n",
    "A payload with full-featured Authentication and Authorization needs to have the capability to maintain a block list of stations not permitted to use the system. The need to handle revoked certificates cleanly points to a requirement that the block list be able to distinguish between permanent blocks on a callsign (say, for bad behavior) and blocks due to compromised private keys. Probably it would be enough if each blocked callsign also stored a date. Any certificates for that callsign older than the stored date would be rejected. Permanant blocks would just have a date in the very far future.\n"
   ]
  }
 ],
 "metadata": {
  "kernelspec": {
   "display_name": "Python 3.8.10 ('.venv': venv)",
   "language": "python",
   "name": "python3"
  },
  "language_info": {
   "codemirror_mode": {
    "name": "ipython",
    "version": 3
   },
   "file_extension": ".py",
   "mimetype": "text/x-python",
   "name": "python",
   "nbconvert_exporter": "python",
   "pygments_lexer": "ipython3",
   "version": "3.8.10"
  },
  "orig_nbformat": 4,
  "vscode": {
   "interpreter": {
    "hash": "52d2cd17edd2c7aa9970cbb2a49cbff20960f8e79bba35751abd7e2bfb9c491f"
   }
  }
 },
 "nbformat": 4,
 "nbformat_minor": 2
}
